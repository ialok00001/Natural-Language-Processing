{
  "cells": [
    {
      "cell_type": "code",
      "execution_count": null,
      "metadata": {
        "colab": {
          "base_uri": "https://localhost:8080/"
        },
        "collapsed": true,
        "id": "IZhXPdv6598M",
        "outputId": "7035cce7-3e4b-4b7a-e598-20c301925476"
      },
      "outputs": [],
      "source": [
        "# Importing necessary libraries\n",
        "from google.colab import drive\n",
        "import os\n",
        "import json\n",
        "import multiprocessing as mp\n",
        "from multiprocessing import Pool\n",
        "from time import time\n",
        "from datetime import timedelta\n",
        "import nltk\n",
        "nltk.download('all')\n",
        "from nltk.tokenize import word_tokenize\n",
        "from nltk.probability import FreqDist\n",
        "from nltk.corpus import stopwords\n",
        "import pandas as pd\n",
        "import matplotlib.pyplot as plt\n",
        "import numpy as np\n",
        "from scipy.stats import linregress\n",
        "import re\n",
        "from tqdm import tqdm\n",
        "import pickle as pk\n",
        "\n",
        "stop_words = set(stopwords.words('english'))"
      ]
    },
    {
      "cell_type": "markdown",
      "metadata": {
        "id": "Zjca9g2VXo4r"
      },
      "source": [
        "The above outputs only shows the nltk downloads. So it is hidden to save space on the screen."
      ]
    },
    {
      "cell_type": "code",
      "execution_count": null,
      "metadata": {
        "colab": {
          "base_uri": "https://localhost:8080/"
        },
        "id": "1Bi8FiTQq-lO",
        "outputId": "b567aba9-fdc9-4be4-cb0d-1ea5714c1610"
      },
      "outputs": [
        {
          "name": "stdout",
          "output_type": "stream",
          "text": [
            "Drive already mounted at /content/drive; to attempt to forcibly remount, call drive.mount(\"/content/drive\", force_remount=True).\n"
          ]
        }
      ],
      "source": [
        "# Mount the drive on colab\n",
        "drive.mount('/content/drive')"
      ]
    },
    {
      "cell_type": "code",
      "execution_count": null,
      "metadata": {
        "id": "OLRCxi1Gq31O"
      },
      "outputs": [],
      "source": [
        "# Unzipping all the files\n",
        "import zipfile\n",
        "with zipfile.ZipFile('/content/drive/MyDrive/pdf_json.zip', 'r') as zip_ref:\n",
        "    zip_ref.extractall('/content/NLP_corpus/')"
      ]
    },
    {
      "cell_type": "code",
      "execution_count": null,
      "metadata": {
        "colab": {
          "base_uri": "https://localhost:8080/"
        },
        "id": "droDWVj8uat1",
        "outputId": "df1cd403-b57c-4e92-c682-3c24c9c6cc94"
      },
      "outputs": [
        {
          "name": "stdout",
          "output_type": "stream",
          "text": [
            "56528\n"
          ]
        }
      ],
      "source": [
        "# Considering only the JSON files\n",
        "files = os.listdir('/content/NLP_corpus/pdf_json')\n",
        "files = [x for x in files if x.endswith('.json')]\n",
        "print(len(files))"
      ]
    },
    {
      "cell_type": "code",
      "execution_count": null,
      "metadata": {
        "id": "eNl5NanYVykG"
      },
      "outputs": [],
      "source": [
        "# Path of all json files\n",
        "Sroot = \"/content/NLP_corpus/pdf_json\""
      ]
    },
    {
      "cell_type": "code",
      "execution_count": null,
      "metadata": {
        "id": "JdIiHXXBisMI"
      },
      "outputs": [],
      "source": [
        "def json2text(filename):\n",
        "  '''\n",
        "  Preprocesses each file and returns (file_name, preprocessed_text)\n",
        "  '''\n",
        "\n",
        "  with open(os.path.join(Sroot, filename), 'r') as file:\n",
        "      content = file.read()\n",
        "      paper_content = json.loads(content)\n",
        "\n",
        "      body_text = \"\"\n",
        "      abstract = \"\"\n",
        "      title = \"\"\n",
        "\n",
        "      if 'title' in paper_content['metadata']:\n",
        "          title = paper_content['metadata']['title']\n",
        "\n",
        "      if 'abstract' in paper_content:\n",
        "          for abs in paper_content['abstract']:\n",
        "              abstract += abs['text']\n",
        "\n",
        "      if 'body_text' in paper_content:\n",
        "          for bt in paper_content['body_text']:\n",
        "              body_text += bt['text']\n",
        "\n",
        "      total_text = f\"{title} {abstract} {body_text}\"\n",
        "\n",
        "      # Preprocessing\n",
        "\n",
        "      # Removing html links\n",
        "      pattern = r'http[s]?://\\S+'\n",
        "      total_text = re.sub(pattern, '', total_text)\n",
        "\n",
        "      # Removing extra characters (not all, like - or :, etc.)\n",
        "      pattern = r'[)(,.{}[\\]<>?\\/!@#$%^&*`~\\'\";=]'\n",
        "      total_text = re.sub(pattern, '', total_text)\n",
        "\n",
        "      # Removing numbers occuring as stand-alone words\n",
        "      # Not all numbers, like in Covid-19\n",
        "      words = word_tokenize(total_text)\n",
        "      words = [word.lower() for word in words if word.isdigit() == False]\n",
        "\n",
        "      # Finally, the stopwords\n",
        "      words = [word for word in words if word not in stop_words]\n",
        "\n",
        "      total_text = ' '.join(words)\n",
        "      return (filename[:-5], total_text)"
      ]
    },
    {
      "cell_type": "code",
      "execution_count": null,
      "metadata": {
        "id": "7eKTz745CRr9"
      },
      "outputs": [],
      "source": [
        "def par_write(files):\n",
        "  '''\n",
        "  Uses multiprocessing to map the function json2text on all files, and saves the complete preprocessed corpus in a json file.\n",
        "  '''\n",
        "  start = time()\n",
        "\n",
        "  total_files = len(files)\n",
        "\n",
        "  progress = tqdm(total=total_files, desc=\"Processing Files\")\n",
        "\n",
        "  def update_progress(result):\n",
        "      progress.update()\n",
        "\n",
        "  with Pool() as p:\n",
        "      results = []\n",
        "      for file in files:\n",
        "          res = p.apply_async(json2text, args=(file,), callback=update_progress)\n",
        "          results.append(res)\n",
        "\n",
        "      p.close()\n",
        "      p.join()\n",
        "\n",
        "  print(f\"\\nExtraction complete. Time taken = {timedelta(seconds = time() - start)}\\n\")\n",
        "\n",
        "  result_dict = {res.get()[0]: res.get()[1] for res in results}\n",
        "\n",
        "  print(\"Dictionary conversion complete\")\n",
        "\n",
        "  # Save the results to a JSON file\n",
        "  with open('/content/drive/MyDrive/corpus.json', 'w') as f:\n",
        "      json.dump(result_dict, f)\n",
        "\n",
        "  print(\"Saving corpus.json complete\")"
      ]
    },
    {
      "cell_type": "code",
      "execution_count": null,
      "metadata": {
        "colab": {
          "base_uri": "https://localhost:8080/"
        },
        "id": "qvhBHGjPi0DN",
        "outputId": "f000fe42-2952-47b4-faf0-ee552b719cd4"
      },
      "outputs": [
        {
          "name": "stderr",
          "output_type": "stream",
          "text": [
            "Processing Files: 100%|█████████▉| 56524/56528 [22:31<00:00, 50.23it/s]"
          ]
        },
        {
          "name": "stdout",
          "output_type": "stream",
          "text": [
            "\n",
            "Extraction complete. Time taken = 0:22:31.383225\n",
            "\n",
            "Dictionary conversion complete\n"
          ]
        },
        {
          "name": "stderr",
          "output_type": "stream",
          "text": [
            "Processing Files: 100%|██████████| 56528/56528 [22:50<00:00, 41.24it/s]"
          ]
        },
        {
          "name": "stdout",
          "output_type": "stream",
          "text": [
            "Saving corpus.json complete\n"
          ]
        },
        {
          "name": "stderr",
          "output_type": "stream",
          "text": [
            "\n"
          ]
        }
      ],
      "source": [
        "par_write(files)"
      ]
    },
    {
      "cell_type": "markdown",
      "metadata": {
        "id": "NffjYl4_Lng-"
      },
      "source": [
        "Once the corpus is saved, we can use them anytime from the drive."
      ]
    },
    {
      "cell_type": "code",
      "execution_count": null,
      "metadata": {
        "id": "a2IICQVMvLY7"
      },
      "outputs": [],
      "source": [
        "with open('/content/drive/MyDrive/corpus.json', 'r') as f:\n",
        "  content = f.read()\n",
        "  json_content = json.loads(content)"
      ]
    },
    {
      "cell_type": "code",
      "execution_count": null,
      "metadata": {
        "colab": {
          "base_uri": "https://localhost:8080/"
        },
        "id": "tLrDFqRnvTC3",
        "outputId": "98d3f42c-5bd7-4635-c684-aa6b4cb912d0"
      },
      "outputs": [
        {
          "name": "stdout",
          "output_type": "stream",
          "text": [
            "Type of file = <class 'dict'>\n",
            "Length of file = 56528\n"
          ]
        }
      ],
      "source": [
        "print(f\"Type of file = {type(json_content)}\")\n",
        "print(f\"Length of file = {len(json_content)}\")"
      ]
    },
    {
      "cell_type": "markdown",
      "metadata": {
        "id": "k34lOTGDi08B"
      },
      "source": [
        "# Zipf's Law"
      ]
    },
    {
      "cell_type": "code",
      "execution_count": null,
      "metadata": {
        "id": "6jCR-k25KVZb"
      },
      "outputs": [],
      "source": [
        "def term_freq(x):\n",
        "  '''\n",
        "  Calculates the weighted term frequency for each token in the document x\n",
        "  '''\n",
        "  words = word_tokenize(x)\n",
        "  freq_dist = FreqDist(words)\n",
        "  weighted_freq_dist = FreqDist()\n",
        "  for i in freq_dist:\n",
        "    weighted_freq_dist[i] = freq_dist[i]/len(freq_dist)\n",
        "  return weighted_freq_dist"
      ]
    },
    {
      "cell_type": "code",
      "execution_count": null,
      "metadata": {
        "id": "usNqIixFWXt2"
      },
      "outputs": [],
      "source": [
        "def freq_dist_mp(batch_size=100):\n",
        "    \"\"\"Processes documents in parallel and computes frequency distributions.\"\"\"\n",
        "    if not os.path.exists('/content/drive/MyDrive/freq_dist_list_batches'):\n",
        "        os.makedirs('/content/drive/MyDrive/freq_dist_list_batches')\n",
        "\n",
        "    start = time()\n",
        "    total_docs = len(json_content)\n",
        "\n",
        "    progress = tqdm(total=total_docs, desc=\"Processing Documents\", leave=True, position=0)\n",
        "\n",
        "    def update_progress(_):\n",
        "        \"\"\"Callback function to update the progress bar.\"\"\"\n",
        "        progress.update(1)\n",
        "\n",
        "    batch_index = 0\n",
        "\n",
        "    with Pool() as p:\n",
        "        for i in range(0, total_docs, batch_size):\n",
        "            batch_docs = list(json_content.values())[i:i + batch_size]\n",
        "\n",
        "            results = [p.apply_async(term_freq, args=(doc,), callback=update_progress) for doc in batch_docs]\n",
        "\n",
        "            batch_results = [res.get() for res in results]\n",
        "\n",
        "            # Saving the batches to avoid holding all results in memory and memory crashes\n",
        "            with open(f'/content/drive/MyDrive/freq_dist_list_batches/freq_dist_list_batch_{batch_index}.pickle', 'wb') as f:\n",
        "                pk.dump(batch_results, f)\n",
        "\n",
        "            batch_index += 1\n",
        "\n",
        "    p.close()\n",
        "    p.join()\n",
        "    progress.close()\n",
        "\n",
        "    print(f\"\\nMultiprocessing complete.\\nTime taken = {timedelta(seconds=time() - start)}\")"
      ]
    },
    {
      "cell_type": "code",
      "execution_count": null,
      "metadata": {
        "colab": {
          "base_uri": "https://localhost:8080/"
        },
        "id": "pMvfAZR0jz7H",
        "outputId": "9e30eefb-9397-4ddc-d20f-76170d36b272"
      },
      "outputs": [
        {
          "name": "stderr",
          "output_type": "stream",
          "text": [
            "Processing Documents: 100%|██████████| 56528/56528 [18:46<00:00, 50.17it/s]"
          ]
        },
        {
          "name": "stdout",
          "output_type": "stream",
          "text": [
            "\n",
            "Multiprocessing complete.\n",
            "Time taken = 0:18:46.658149\n"
          ]
        },
        {
          "name": "stderr",
          "output_type": "stream",
          "text": [
            "\n"
          ]
        }
      ],
      "source": [
        "freq_dist_mp(batch_size=1000)"
      ]
    },
    {
      "cell_type": "code",
      "execution_count": null,
      "metadata": {
        "id": "p8FIF8cUj1pK"
      },
      "outputs": [],
      "source": [
        "def addition(x):\n",
        "  '''\n",
        "  Simple addition of two frequency distributions\n",
        "  '''\n",
        "  return x[0] + x[1]\n",
        "\n",
        "def freq_dist_add_mp(x):\n",
        "  '''\n",
        "  Multiptocessing to add all frequency distributions using addition function above\n",
        "  '''\n",
        "  start = time()\n",
        "  while len(x) >= 2:\n",
        "    new_x = []\n",
        "    for i in range(0, (len(x)//2)*2, 2):\n",
        "      new_x.append((x[i], x[i+1]))\n",
        "    if len(x) % 2 != 0:\n",
        "      new_x.append((x[-1], FreqDist()))\n",
        "    p = Pool()\n",
        "    x = p.map(addition, new_x, chunksize = 100)\n",
        "    p.close()\n",
        "    p.join()\n",
        "  print(f\"Time taken for addition = {timedelta(seconds = time() - start)}\")\n",
        "  return x[0]"
      ]
    },
    {
      "cell_type": "markdown",
      "metadata": {
        "id": "g95KXqJ7Mr32"
      },
      "source": [
        "This above function is actually very optimized, in the sense that it itteratively computes the overall frequency distribution, while using multiprocessing.\n",
        "\n",
        "The following is a sketch of its working:\n",
        "\n",
        "* Step 1: Let the list of frequency distributions be given as $$x = \\left[x_1, x_2, x_3, x_4, \\dots\\right]$$\n",
        "First, we make pairings of them.\n",
        "$$x_{new} = \\left[(x_1, x_2), (x_3, x_4), \\dots\\right]$$\n",
        "\n",
        "* Step 2: On this, we apply addition function with multiprocessing to calculate the additions of pairs and save it to the original list (x here).\n",
        "\n",
        "$$x = \\text{addition}(x_{new}\\text{ }\\big|\\text{ multiprocessing})$$\n",
        "$$\\Rightarrow x = \\left[y_1, y_2, \\dots\\right]$$\n",
        "Then, we just repeat this process, again making pairs $$x_{new} = \\left[(y_1, y_2), \\dots\\right]$$\n",
        "\n",
        "We keep on doing this iterative step, until the length of x is less than 2, in which case it has only one element, which is the addition of all frequency distributions.\n",
        "\n",
        "Experimentally, this method proved to be a bit faster than just addition the frequency distributions in series."
      ]
    },
    {
      "cell_type": "code",
      "execution_count": null,
      "metadata": {
        "colab": {
          "base_uri": "https://localhost:8080/"
        },
        "id": "t-Nu-pvgj2LF",
        "outputId": "32bcf292-7b05-40e6-fece-86f0994426de"
      },
      "outputs": [
        {
          "name": "stdout",
          "output_type": "stream",
          "text": [
            "57 iterations in total\n",
            "\n",
            "\n",
            "Iteration 1\n",
            "Time taken for addition = 0:00:19.734709\n",
            "\n",
            "Iteration 2\n",
            "Time taken for addition = 0:00:21.915457\n",
            "\n",
            "Iteration 3\n",
            "Time taken for addition = 0:00:18.758862\n",
            "\n",
            "Iteration 4\n",
            "Time taken for addition = 0:00:18.657235\n",
            "\n",
            "Iteration 5\n",
            "Time taken for addition = 0:00:19.069323\n",
            "\n",
            "Iteration 6\n",
            "Time taken for addition = 0:00:18.602656\n",
            "\n",
            "Iteration 7\n",
            "Time taken for addition = 0:00:18.031872\n",
            "\n",
            "Iteration 8\n",
            "Time taken for addition = 0:00:18.782496\n",
            "\n",
            "Iteration 9\n",
            "Time taken for addition = 0:00:20.120449\n",
            "\n",
            "Iteration 10\n",
            "Time taken for addition = 0:00:18.047660\n",
            "\n",
            "Iteration 11\n",
            "Time taken for addition = 0:00:18.838100\n",
            "\n",
            "Iteration 12\n",
            "Time taken for addition = 0:00:18.661741\n",
            "\n",
            "Iteration 13\n",
            "Time taken for addition = 0:00:19.324737\n",
            "\n",
            "Iteration 14\n",
            "Time taken for addition = 0:00:18.965387\n",
            "\n",
            "Iteration 15\n",
            "Time taken for addition = 0:00:17.233981\n",
            "\n",
            "Iteration 16\n",
            "Time taken for addition = 0:00:18.838356\n",
            "\n",
            "Iteration 17\n",
            "Time taken for addition = 0:00:20.286314\n",
            "\n",
            "Iteration 18\n",
            "Time taken for addition = 0:00:18.039155\n",
            "\n",
            "Iteration 19\n",
            "Time taken for addition = 0:00:19.142119\n",
            "\n",
            "Iteration 20\n",
            "Time taken for addition = 0:00:20.266820\n",
            "\n",
            "Iteration 21\n",
            "Time taken for addition = 0:00:19.591299\n",
            "\n",
            "Iteration 22\n",
            "Time taken for addition = 0:00:18.940047\n",
            "\n",
            "Iteration 23\n",
            "Time taken for addition = 0:00:20.011573\n",
            "\n",
            "Iteration 24\n",
            "Time taken for addition = 0:00:19.976276\n",
            "\n",
            "Iteration 25\n",
            "Time taken for addition = 0:00:18.602593\n",
            "\n",
            "Iteration 26\n",
            "Time taken for addition = 0:00:19.609421\n",
            "\n",
            "Iteration 27\n",
            "Time taken for addition = 0:00:20.580996\n",
            "\n",
            "Iteration 28\n",
            "Time taken for addition = 0:00:19.626618\n",
            "\n",
            "Iteration 29\n",
            "Time taken for addition = 0:00:18.562208\n",
            "\n",
            "Iteration 30\n",
            "Time taken for addition = 0:00:21.607821\n",
            "\n",
            "Iteration 31\n",
            "Time taken for addition = 0:00:18.460474\n",
            "\n",
            "Iteration 32\n",
            "Time taken for addition = 0:00:19.635575\n",
            "\n",
            "Iteration 33\n",
            "Time taken for addition = 0:00:23.276845\n",
            "\n",
            "Iteration 34\n",
            "Time taken for addition = 0:00:19.691251\n",
            "\n",
            "Iteration 35\n",
            "Time taken for addition = 0:00:20.363341\n",
            "\n",
            "Iteration 36\n",
            "Time taken for addition = 0:00:21.268795\n",
            "\n",
            "Iteration 37\n",
            "Time taken for addition = 0:00:19.792084\n",
            "\n",
            "Iteration 38\n",
            "Time taken for addition = 0:00:20.636343\n",
            "\n",
            "Iteration 39\n",
            "Time taken for addition = 0:00:20.326312\n",
            "\n",
            "Iteration 40\n",
            "Time taken for addition = 0:00:19.609662\n",
            "\n",
            "Iteration 41\n",
            "Time taken for addition = 0:00:21.985833\n",
            "\n",
            "Iteration 42\n",
            "Time taken for addition = 0:00:20.674818\n",
            "\n",
            "Iteration 43\n",
            "Time taken for addition = 0:00:19.529073\n",
            "\n",
            "Iteration 44\n",
            "Time taken for addition = 0:00:21.360970\n",
            "\n",
            "Iteration 45\n",
            "Time taken for addition = 0:00:23.496287\n",
            "\n",
            "Iteration 46\n",
            "Time taken for addition = 0:00:19.401507\n",
            "\n",
            "Iteration 47\n",
            "Time taken for addition = 0:00:20.803523\n",
            "\n",
            "Iteration 48\n",
            "Time taken for addition = 0:00:20.809362\n",
            "\n",
            "Iteration 49\n",
            "Time taken for addition = 0:00:18.850890\n",
            "\n",
            "Iteration 50\n",
            "Time taken for addition = 0:00:19.692255\n",
            "\n",
            "Iteration 51\n",
            "Time taken for addition = 0:00:21.050974\n",
            "\n",
            "Iteration 52\n",
            "Time taken for addition = 0:00:20.130586\n",
            "\n",
            "Iteration 53\n",
            "Time taken for addition = 0:00:22.571771\n",
            "\n",
            "Iteration 54\n",
            "Time taken for addition = 0:00:22.403239\n",
            "\n",
            "Iteration 55\n",
            "Time taken for addition = 0:00:20.573058\n",
            "\n",
            "Iteration 56\n",
            "Time taken for addition = 0:00:22.740822\n",
            "\n",
            "Iteration 57\n",
            "Time taken for addition = 0:00:15.326194\n"
          ]
        }
      ],
      "source": [
        "# Applying the multiprocessing function on the saved batches (57 in total)\n",
        "freq_dist_list = []\n",
        "print(\"57 iterations in total\\n\")\n",
        "for i in range(57):\n",
        "  with open(f'/content/drive/MyDrive/freq_dist_list_batches/freq_dist_list_batch_{i}.pickle', 'rb') as f:\n",
        "    print(f\"\\nIteration {i+1}\")\n",
        "    freq_dist_list.append(freq_dist_add_mp(pk.load(f)))"
      ]
    },
    {
      "cell_type": "code",
      "execution_count": null,
      "metadata": {
        "id": "ULGaEWRRv6pC"
      },
      "outputs": [],
      "source": [
        "# Finally, additing all the 57 frequency distributions to get the final one\n",
        "all_freq_dist = FreqDist()\n",
        "for one_freq_dist in freq_dist_list:\n",
        "  all_freq_dist = all_freq_dist + one_freq_dist"
      ]
    },
    {
      "cell_type": "code",
      "execution_count": null,
      "metadata": {
        "colab": {
          "base_uri": "https://localhost:8080/"
        },
        "id": "IMGrDq7U6t4b",
        "outputId": "431af19f-588d-4839-8da5-f5d6cb325b72"
      },
      "outputs": [
        {
          "name": "stdout",
          "output_type": "stream",
          "text": [
            "<FreqDist with 2782837 samples and 135885 outcomes>\n"
          ]
        }
      ],
      "source": [
        "print(all_freq_dist)"
      ]
    },
    {
      "cell_type": "code",
      "execution_count": null,
      "metadata": {
        "colab": {
          "base_uri": "https://localhost:8080/"
        },
        "id": "Sk-ANWXm1QsH",
        "outputId": "5062314d-97a7-40a7-da40-0bd14023c3aa"
      },
      "outputs": [
        {
          "name": "stdout",
          "output_type": "stream",
          "text": [
            "        Words  Weighted Frequencies\n",
            "0    patients            847.712862\n",
            "1    covid-19            716.954247\n",
            "2           :            558.825140\n",
            "3          et            543.845700\n",
            "4          al            523.905136\n",
            "5        also            469.854513\n",
            "6         may            450.689610\n",
            "7       study            441.273004\n",
            "8        data            421.137722\n",
            "9   infection            418.884103\n",
            "10      virus            408.477833\n",
            "11      cells            403.032156\n",
            "12    disease            368.096534\n",
            "13      using            358.752292\n",
            "14       used            343.205489\n"
          ]
        }
      ],
      "source": [
        "print(pd.DataFrame(all_freq_dist.most_common(15), columns = [\"Words\", \"Weighted Frequencies\"]))"
      ]
    },
    {
      "cell_type": "code",
      "execution_count": null,
      "metadata": {
        "colab": {
          "base_uri": "https://localhost:8080/",
          "height": 522
        },
        "id": "1CU02nCG6pJW",
        "outputId": "0dc25ef8-d371-422e-d047-14e4a8330a75"
      },
      "outputs": [
        {
          "data": {
            "image/png": "[encoded data removed]",
            "text/plain": [
              "<Figure size 800x500 with 1 Axes>"
            ]
          },
          "metadata": {},
          "output_type": "display_data"
        },
        {
          "name": "stdout",
          "output_type": "stream",
          "text": [
            "Slope of the line (should be close to -1 for Zipf's law): -1.52\n",
            "R-squared value: -0.954\n"
          ]
        }
      ],
      "source": [
        "# Plotting the data in log-log scale\n",
        "frequencies = np.array(list(all_freq_dist.values()))\n",
        "frequencies = np.sort(frequencies)[::-1]\n",
        "\n",
        "ranks = np.arange(1, len(frequencies) + 1)\n",
        "\n",
        "log_frequencies = np.log(frequencies)\n",
        "log_ranks = np.log(ranks)\n",
        "\n",
        "# Plot the frequency vs. rank on the log-log scale\n",
        "plt.figure(figsize=(8, 5))\n",
        "plt.scatter(log_ranks, log_frequencies, s=10, color='blue', alpha=0.5)\n",
        "plt.title('Log-Log Plot of Word Frequency vs. Rank')\n",
        "plt.xlabel('Log Rank')\n",
        "plt.ylabel('Log Frequency')\n",
        "\n",
        "# finding the line of best fit\n",
        "slope, intercept, r_value, p_value, std_err = linregress(log_ranks, log_frequencies)\n",
        "\n",
        "plt.plot(log_ranks, intercept + slope * log_ranks, color='red', linewidth=2, label=f'Best Fit Line: slope={round(slope, 2)}')\n",
        "plt.legend()\n",
        "plt.show()\n",
        "\n",
        "print(f\"Slope of the line (should be close to -1 for Zipf's law): {round(slope, 2)}\")\n",
        "print(f\"R-squared value: {round(r_value, 4)}\")"
      ]
    },
    {
      "cell_type": "markdown",
      "metadata": {
        "id": "BtbtHdmaPCPV"
      },
      "source": [
        "# Heap's Law"
      ]
    },
    {
      "cell_type": "code",
      "execution_count": null,
      "metadata": {
        "id": "uDkqclpnVsrr"
      },
      "outputs": [],
      "source": [
        "with open('/content/drive/MyDrive/corpus.json', 'r') as f:\n",
        "  content = f.read()\n",
        "  json_content = json.loads(content)"
      ]
    },
    {
      "cell_type": "code",
      "execution_count": null,
      "metadata": {
        "id": "T4inVVmT5ASZ"
      },
      "outputs": [],
      "source": [
        "def chunking(files, chunk_size=10000, batch_size=1000, output_dir=\"chunks\"):\n",
        "  '''\n",
        "  Divides the entire corpus into chunks of 10,000, while also saving 1000 such batches, to save RAM\n",
        "  '''\n",
        "  if not os.path.exists(output_dir):\n",
        "      os.makedirs(output_dir)\n",
        "\n",
        "  c = chunk_size\n",
        "  one_list = []\n",
        "  batch = []\n",
        "  batch_count = 0\n",
        "\n",
        "  progress = tqdm(total=len(files), desc=f\"Processing documents\", leave=True)\n",
        "\n",
        "  for i, doc in enumerate(files):\n",
        "      words = word_tokenize(doc)\n",
        "\n",
        "      while len(words) > 0:\n",
        "          if len(words) < c:\n",
        "              one_list.extend(words)\n",
        "              c -= len(words)\n",
        "              words = []  # All words from this doc have been added\n",
        "          else:\n",
        "              one_list.extend(words[:c])\n",
        "              batch.append(one_list)\n",
        "              one_list = []\n",
        "              words = words[c:]\n",
        "              c = chunk_size  # Reset the chunk size for the next chunk\n",
        "\n",
        "          # Save the batch when it reaches batch_size\n",
        "          if len(batch) >= batch_size:\n",
        "              with open(os.path.join(output_dir, f\"chunk_batch_{batch_count}.pkl\"), 'wb') as f:\n",
        "                  pk.dump(batch, f)\n",
        "              batch = []\n",
        "              batch_count += 1\n",
        "\n",
        "      progress.update(1)\n",
        "\n",
        "  # Saving the last remaining batch to disk\n",
        "  if len(batch) > 0:\n",
        "      with open(os.path.join(output_dir, f\"chunk_batch_{batch_count}.pkl\"), 'wb') as f:\n",
        "          pk.dump(batch, f)\n",
        "\n",
        "  # Append any remaining words in the last chunk\n",
        "  if len(one_list) != 0:\n",
        "      with open(os.path.join(output_dir, f\"chunk_batch_{batch_count + 1}.pkl\"), 'wb') as f:\n",
        "          pk.dump([one_list], f)\n",
        "\n",
        "  progress.close()"
      ]
    },
    {
      "cell_type": "code",
      "execution_count": null,
      "metadata": {
        "colab": {
          "base_uri": "https://localhost:8080/"
        },
        "id": "a1RcustR7bbT",
        "outputId": "d54aeadd-ff87-4788-fd09-60776db9f7ea"
      },
      "outputs": [
        {
          "name": "stderr",
          "output_type": "stream",
          "text": [
            "Processing documents: 100%|██████████| 56528/56528 [14:35<00:00, 64.55it/s]\n"
          ]
        }
      ],
      "source": [
        "chunking(list(json_content.values()), chunk_size=10000, batch_size=1000, output_dir = '/content/drive/MyDrive/vocab_chunk_batches')"
      ]
    },
    {
      "cell_type": "code",
      "execution_count": null,
      "metadata": {
        "id": "TeSduRty95N6"
      },
      "outputs": [],
      "source": [
        "def vocabulary(x):\n",
        "    \"\"\"\n",
        "    Calculates vocabulary size and unique set of words for a given chunk.\n",
        "    \"\"\"\n",
        "    return (len(x), set(x))\n",
        "\n",
        "def load_pickle_files(directory):\n",
        "    \"\"\"\n",
        "    Loads all pickle files from a given directory.\n",
        "    \"\"\"\n",
        "    pickle_files = sorted([os.path.join(directory, f) for f in os.listdir(directory) if f.endswith('.pkl')])\n",
        "    return pickle_files\n",
        "\n",
        "def process_pickle_file(file_path):\n",
        "    \"\"\"\n",
        "    Processes each pickle file to calculate vocabulary for each chunk in it.\n",
        "    \"\"\"\n",
        "    with open(file_path, 'rb') as f:\n",
        "        chunk = pk.load(f)  # Load the chunk data\n",
        "    vocab_results = [vocabulary(chunk_part) for chunk_part in chunk]\n",
        "    return vocab_results\n",
        "\n",
        "def vocab_mp(pickle_directory):\n",
        "    \"\"\"\n",
        "    Calculates the vocabulary for each chunk using multiprocessing.\n",
        "    \"\"\"\n",
        "    start = time()\n",
        "\n",
        "    pickle_files = load_pickle_files(pickle_directory)\n",
        "\n",
        "    total_files = len(pickle_files)\n",
        "\n",
        "    progress = tqdm(total=total_files, desc=\"Processing pickle files\")\n",
        "\n",
        "    def update_progress(_):\n",
        "        progress.update()\n",
        "\n",
        "    all_results = []\n",
        "\n",
        "    with Pool() as p:\n",
        "        results = []\n",
        "        for file_path in pickle_files:\n",
        "            res = p.apply_async(process_pickle_file, args=(file_path,), callback=update_progress)\n",
        "            results.append(res)\n",
        "\n",
        "        for res in results:\n",
        "            all_results.extend(res.get())\n",
        "\n",
        "        p.close()\n",
        "        p.join()\n",
        "        progress.close()\n",
        "\n",
        "    print(f\"\\nMultiprocessing complete.\\nTime taken = {timedelta(seconds = time() - start)}\")\n",
        "    return all_results"
      ]
    },
    {
      "cell_type": "code",
      "execution_count": null,
      "metadata": {
        "colab": {
          "base_uri": "https://localhost:8080/"
        },
        "id": "EMdTsf9m99I6",
        "outputId": "7cc662e1-6a88-4e37-8652-716097b77b38"
      },
      "outputs": [
        {
          "name": "stderr",
          "output_type": "stream",
          "text": [
            "Processing pickle files: 100%|██████████| 15/15 [01:12<00:00,  4.82s/it]"
          ]
        },
        {
          "name": "stdout",
          "output_type": "stream",
          "text": [
            "\n",
            "Multiprocessing complete.\n",
            "Time taken = 0:01:12.356543\n"
          ]
        },
        {
          "name": "stderr",
          "output_type": "stream",
          "text": [
            "\n"
          ]
        }
      ],
      "source": [
        "# The directory where the pickle files are stored\n",
        "pickle_directory = '/content/drive/MyDrive/vocab_chunk_batches'\n",
        "\n",
        "vocab_listing = vocab_mp(pickle_directory)"
      ]
    },
    {
      "cell_type": "code",
      "execution_count": null,
      "metadata": {
        "id": "Qqsj502OA7-D"
      },
      "outputs": [],
      "source": [
        "def cumulative_vocab_optimized(vocab_list):\n",
        "    \"\"\"\n",
        "    Computes cumulative vocabulary size across chunks.\n",
        "    \"\"\"\n",
        "    cumulative_result = []\n",
        "    total_tokens = 0\n",
        "    cumulative_vocab = set()\n",
        "\n",
        "    for (num_tokens, vocab_set) in tqdm(vocab_list, desc=\"Calculating cumulative vocabulary\"):\n",
        "        total_tokens += num_tokens # Update the total number of tokens\n",
        "        cumulative_vocab.update(vocab_set)  # Update the cumulative vocabulary set\n",
        "        cumulative_result.append((total_tokens, len(cumulative_vocab)))  # Store the total tokens and vocab size\n",
        "\n",
        "    return cumulative_result"
      ]
    },
    {
      "cell_type": "code",
      "execution_count": null,
      "metadata": {
        "colab": {
          "base_uri": "https://localhost:8080/"
        },
        "id": "RUvGfjkgA_Et",
        "outputId": "999da91d-8c19-45d7-ae77-06ca30960d75"
      },
      "outputs": [
        {
          "name": "stderr",
          "output_type": "stream",
          "text": [
            "Calculating cumulative vocabulary: 100%|██████████| 13656/13656 [00:11<00:00, 1167.03it/s]\n"
          ]
        }
      ],
      "source": [
        "total_token_vocab_list = cumulative_vocab_optimized(vocab_listing)"
      ]
    },
    {
      "cell_type": "code",
      "execution_count": null,
      "metadata": {
        "colab": {
          "base_uri": "https://localhost:8080/"
        },
        "id": "p0fWDfDmnOa7",
        "outputId": "541457d1-d858-4567-b932-c74328645930"
      },
      "outputs": [
        {
          "name": "stdout",
          "output_type": "stream",
          "text": [
            "Total number of tokens = 136553032\n",
            "Total size of vocabulary = 2782837\n"
          ]
        }
      ],
      "source": [
        "a, b = total_token_vocab_list[-1]\n",
        "print(f\"Total number of tokens = {a}\")\n",
        "print(f\"Total size of vocabulary = {b}\")"
      ]
    },
    {
      "cell_type": "code",
      "execution_count": null,
      "metadata": {
        "colab": {
          "base_uri": "https://localhost:8080/",
          "height": 586
        },
        "id": "KCDNa8KpA4TY",
        "outputId": "245c5146-66ee-49eb-eac4-23d9014ccecf"
      },
      "outputs": [
        {
          "data": {
            "image/png": "[encoded data removed]",
            "text/plain": [
              "<Figure size 1000x600 with 1 Axes>"
            ]
          },
          "metadata": {},
          "output_type": "display_data"
        },
        {
          "name": "stdout",
          "output_type": "stream",
          "text": [
            "Estimated slope (beta) from Heaps' law: 0.7290\n"
          ]
        }
      ],
      "source": [
        "# Plotting the vocabulary size and token size on log-log scale\n",
        "\n",
        "tokens, vocab_sizes = zip(*total_token_vocab_list)\n",
        "\n",
        "tokens = np.array(tokens)\n",
        "vocab_sizes = np.array(vocab_sizes)\n",
        "\n",
        "plt.figure(figsize=(10, 6))\n",
        "plt.loglog(tokens, vocab_sizes, marker='o', linestyle='-', label='Data')\n",
        "\n",
        "log_tokens = np.log10(tokens)\n",
        "log_vocab_sizes = np.log10(vocab_sizes)\n",
        "\n",
        "slope, intercept = np.polyfit(log_tokens, log_vocab_sizes, 1)\n",
        "\n",
        "plt.plot(tokens, 10**(intercept + slope * log_tokens), linestyle='--', color='red', label=f'Fit: slope={slope:.4f}')\n",
        "\n",
        "plt.xlabel('Total Tokens (log scale)')\n",
        "plt.ylabel('Vocabulary Size (log scale)')\n",
        "plt.title('Heaps\\' Law Verification: Vocabulary Size vs. Total Tokens')\n",
        "plt.legend()\n",
        "plt.grid(True)\n",
        "plt.show()\n",
        "\n",
        "print(f\"Estimated slope (beta) from Heaps' law: {slope:.4f}\")"
      ]
    }
  ],
  "metadata": {
    "colab": {
      "provenance": []
    },
    "kernelspec": {
      "display_name": "Python 3",
      "name": "python3"
    },
    "language_info": {
      "name": "python"
    }
  },
  "nbformat": 4,
  "nbformat_minor": 0
}
